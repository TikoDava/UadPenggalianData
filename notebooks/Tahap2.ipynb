{
  "nbformat": 4,
  "nbformat_minor": 0,
  "metadata": {
    "colab": {
      "provenance": []
    },
    "kernelspec": {
      "name": "python3",
      "display_name": "Python 3"
    },
    "language_info": {
      "name": "python"
    }
  },
  "cells": [
    {
      "cell_type": "code",
      "source": [
        "from google.colab import drive\n",
        "drive.mount('/content/drive')"
      ],
      "metadata": {
        "id": "zH4IepvAkxHO",
        "colab": {
          "base_uri": "https://localhost:8080/"
        },
        "outputId": "b4c69e60-5a3f-4047-c70f-c2ccec3870f1"
      },
      "execution_count": 2,
      "outputs": [
        {
          "output_type": "stream",
          "name": "stdout",
          "text": [
            "Mounted at /content/drive\n"
          ]
        }
      ]
    },
    {
      "cell_type": "code",
      "source": [
        "import os\n",
        "import requests\n",
        "from bs4 import BeautifulSoup\n",
        "import re\n",
        "import pandas as pd\n",
        "import glob\n",
        "import numpy as np\n",
        "from sklearn.feature_extraction.text import TfidfVectorizer\n",
        "from sklearn.svm import SVC\n",
        "from sklearn.model_selection import train_test_split\n",
        "from sklearn.metrics.pairwise import cosine_similarity\n",
        "from sklearn.metrics import classification_report, accuracy_score, precision_score, recall_score, f1_score\n",
        "from sklearn.feature_extraction.text import CountVectorizer\n",
        "from collections import Counter\n",
        "import json\n",
        "import matplotlib.pyplot as plt\n",
        "from transformers import AutoTokenizer, AutoModel\n",
        "import torch"
      ],
      "metadata": {
        "id": "gwIqEvImb4PY"
      },
      "execution_count": 1,
      "outputs": []
    },
    {
      "cell_type": "code",
      "execution_count": 3,
      "metadata": {
        "id": "etG26-v7jMMA",
        "colab": {
          "base_uri": "https://localhost:8080/"
        },
        "outputId": "121422b8-eb33-4ed5-b73e-8c0795ee7f32"
      },
      "outputs": [
        {
          "output_type": "stream",
          "name": "stderr",
          "text": [
            "/tmp/ipython-input-3-123680359.py:3: FutureWarning: Setting an item of incompatible dtype is deprecated and will raise an error in a future version of pandas. Value '' has dtype incompatible with float64, please explicitly cast to a compatible dtype first.\n",
            "  df.fillna(\"\", inplace=True)\n"
          ]
        },
        {
          "output_type": "stream",
          "name": "stdout",
          "text": [
            "Berhasil disimpan ke:\n",
            "/content/drive/MyDrive/ProyekA/data/processed/cases.csv\n",
            "/content/drive/MyDrive/ProyekA/data/processed/cases.json\n"
          ]
        }
      ],
      "source": [
        "# Load CSV\n",
        "df = pd.read_csv(\"/content/drive/MyDrive/ProyekA/CSV/putusan_ma__2025-06-24.csv\")\n",
        "df.fillna(\"\", inplace=True)\n",
        "\n",
        "# Fungsi metadata\n",
        "def extract_metadata(row):\n",
        "    return {\n",
        "        \"case_id\": row.get(\"nomor\", \"\"),\n",
        "        \"judul\": row.get(\"judul\", \"\"),\n",
        "        \"tanggal\": row.get(\"tanggal_register\", \"\"),\n",
        "        \"jenis_perkara\": row.get(\"klasifikasi\", \"\"),\n",
        "        \"pasal\": re.findall(r\"pasal[^.\\n]{0,100}\", row.get(\"text_pdf\", \"\").lower()),\n",
        "        \"pihak\": f\"{row.get('hakim_ketua', '')}, {row.get('hakim_anggota', '')}, {row.get('panitera', '')}\",\n",
        "        \"text_full\": row.get(\"text_pdf\", \"\")\n",
        "    }\n",
        "\n",
        "# Ekstraksi konten\n",
        "def extract_summary_and_argument(text):\n",
        "    text = text.lower()\n",
        "    ringkasan = re.search(r\"(barang bukti.*?)(?:\\n|\\.|;)\", text)\n",
        "    argumen = re.search(r\"(menyatakan|mengadili|memutuskan).*?(?:\\n|\\.|;)\", text)\n",
        "    return ringkasan.group(1) if ringkasan else \"\", argumen.group(0) if argumen else \"\"\n",
        "\n",
        "# QA Pairs\n",
        "def generate_qa(text):\n",
        "    text = text.lower()\n",
        "    qas = []\n",
        "    if (m := re.search(r\"barang bukti.*?[.:;\\n]\", text)):\n",
        "        qas.append({\"question\": \"Apa barang bukti dalam perkara ini?\", \"answer\": m.group(0).strip()})\n",
        "    if (m := re.search(r\"(menyatakan|mengadili|memutuskan).*?[.:;\\n]\", text)):\n",
        "        qas.append({\"question\": \"Apa amar putusan yang diputuskan?\", \"answer\": m.group(0).strip()})\n",
        "    if (m := re.search(r\"pasal[^.\\n]{0,100}\", text)):\n",
        "        qas.append({\"question\": \"Pasal apa yang dijadikan dasar?\", \"answer\": m.group(0).strip()})\n",
        "    return qas\n",
        "\n",
        "# Feature engineering\n",
        "df['length'] = df['text_pdf'].apply(lambda x: len(str(x).split()))\n",
        "vectorizer = CountVectorizer(max_features=10, stop_words='english')\n",
        "X = vectorizer.fit_transform(df['text_pdf'])\n",
        "bow_df = pd.DataFrame(X.toarray(), columns=[f\"bow_{w}\" for w in vectorizer.get_feature_names_out()])\n",
        "\n",
        "# Proses seluruh data\n",
        "cases = []\n",
        "for _, row in df.iterrows():\n",
        "    meta = extract_metadata(row)\n",
        "    ringkasan, argumen = extract_summary_and_argument(meta[\"text_full\"])\n",
        "    qa = generate_qa(meta[\"text_full\"])\n",
        "    cases.append({\n",
        "        \"case_id\": meta[\"case_id\"],\n",
        "        \"no_perkara\": meta[\"case_id\"],\n",
        "        \"tanggal\": meta[\"tanggal\"],\n",
        "        \"jenis_perkara\": meta[\"jenis_perkara\"],\n",
        "        \"pasal\": \"; \".join(meta[\"pasal\"]),\n",
        "        \"pihak\": meta[\"pihak\"],\n",
        "        \"ringkasan_fakta\": ringkasan,\n",
        "        \"argumen_hukum\": argumen,\n",
        "        \"text_full\": meta[\"text_full\"],\n",
        "        \"qa_pairs\": json.dumps(qa, ensure_ascii=False),\n",
        "    })\n",
        "\n",
        "final_df = pd.DataFrame(cases)\n",
        "final_df[\"length\"] = df[\"length\"]\n",
        "final_df = pd.concat([final_df, bow_df], axis=1)\n",
        "\n",
        "output_csv = \"/content/drive/MyDrive/ProyekA/data/processed/cases.csv\"\n",
        "output_json = \"/content/drive/MyDrive/ProyekA/data/processed/cases.json\"\n",
        "os.makedirs(os.path.dirname(output_csv), exist_ok=True)\n",
        "final_df.to_csv(output_csv, index=False)\n",
        "final_df.to_json(output_json, orient=\"records\", indent=2)\n",
        "\n",
        "print(\"Berhasil disimpan ke:\")\n",
        "print(output_csv)\n",
        "print(output_json)"
      ]
    }
  ]
}