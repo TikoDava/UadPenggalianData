{
  "nbformat": 4,
  "nbformat_minor": 0,
  "metadata": {
    "colab": {
      "provenance": []
    },
    "kernelspec": {
      "name": "python3",
      "display_name": "Python 3"
    },
    "language_info": {
      "name": "python"
    }
  },
  "cells": [
    {
      "cell_type": "code",
      "source": [
        "from google.colab import drive\n",
        "drive.mount('/content/drive')"
      ],
      "metadata": {
        "id": "zH4IepvAkxHO"
      },
      "execution_count": null,
      "outputs": []
    },
    {
      "cell_type": "code",
      "execution_count": null,
      "metadata": {
        "id": "etG26-v7jMMA"
      },
      "outputs": [],
      "source": [
        "import pandas as pd\n",
        "import json\n",
        "import re\n",
        "from sklearn.feature_extraction.text import CountVectorizer\n",
        "\n",
        "# Load CSV\n",
        "df = pd.read_csv(\"/content/drive/MyDrive/ProyekA/CSV/putusan_ma__2025-06-24.csv\")\n",
        "df.fillna(\"\", inplace=True)\n",
        "\n",
        "# Fungsi metadata\n",
        "def extract_metadata(row):\n",
        "    return {\n",
        "        \"case_id\": row.get(\"nomor\", \"\"),\n",
        "        \"judul\": row.get(\"judul\", \"\"),\n",
        "        \"tanggal\": row.get(\"tanggal_register\", \"\"),\n",
        "        \"jenis_perkara\": row.get(\"klasifikasi\", \"\"),\n",
        "        \"pasal\": re.findall(r\"pasal[^.\\n]{0,100}\", row.get(\"text_pdf\", \"\").lower()),\n",
        "        \"pihak\": f\"{row.get('hakim_ketua', '')}, {row.get('hakim_anggota', '')}, {row.get('panitera', '')}\",\n",
        "        \"text_full\": row.get(\"text_pdf\", \"\")\n",
        "    }\n",
        "\n",
        "# Ekstraksi konten\n",
        "def extract_summary_and_argument(text):\n",
        "    text = text.lower()\n",
        "    ringkasan = re.search(r\"(barang bukti.*?)(?:\\n|\\.|;)\", text)\n",
        "    argumen = re.search(r\"(menyatakan|mengadili|memutuskan).*?(?:\\n|\\.|;)\", text)\n",
        "    return ringkasan.group(1) if ringkasan else \"\", argumen.group(0) if argumen else \"\"\n",
        "\n",
        "# QA Pairs\n",
        "def generate_qa(text):\n",
        "    text = text.lower()\n",
        "    qas = []\n",
        "    if (m := re.search(r\"barang bukti.*?[.:;\\n]\", text)):\n",
        "        qas.append({\"question\": \"Apa barang bukti dalam perkara ini?\", \"answer\": m.group(0).strip()})\n",
        "    if (m := re.search(r\"(menyatakan|mengadili|memutuskan).*?[.:;\\n]\", text)):\n",
        "        qas.append({\"question\": \"Apa amar putusan yang diputuskan?\", \"answer\": m.group(0).strip()})\n",
        "    if (m := re.search(r\"pasal[^.\\n]{0,100}\", text)):\n",
        "        qas.append({\"question\": \"Pasal apa yang dijadikan dasar?\", \"answer\": m.group(0).strip()})\n",
        "    return qas\n",
        "\n",
        "# Feature engineering\n",
        "df['length'] = df['text_pdf'].apply(lambda x: len(str(x).split()))\n",
        "vectorizer = CountVectorizer(max_features=10, stop_words='english')\n",
        "X = vectorizer.fit_transform(df['text_pdf'])\n",
        "bow_df = pd.DataFrame(X.toarray(), columns=[f\"bow_{w}\" for w in vectorizer.get_feature_names_out()])\n",
        "\n",
        "# Proses seluruh data\n",
        "cases = []\n",
        "for _, row in df.iterrows():\n",
        "    meta = extract_metadata(row)\n",
        "    ringkasan, argumen = extract_summary_and_argument(meta[\"text_full\"])\n",
        "    qa = generate_qa(meta[\"text_full\"])\n",
        "    cases.append({\n",
        "        \"case_id\": meta[\"case_id\"],\n",
        "        \"no_perkara\": meta[\"case_id\"],\n",
        "        \"tanggal\": meta[\"tanggal\"],\n",
        "        \"jenis_perkara\": meta[\"jenis_perkara\"],\n",
        "        \"pasal\": \"; \".join(meta[\"pasal\"]),\n",
        "        \"pihak\": meta[\"pihak\"],\n",
        "        \"ringkasan_fakta\": ringkasan,\n",
        "        \"argumen_hukum\": argumen,\n",
        "        \"text_full\": meta[\"text_full\"],\n",
        "        \"qa_pairs\": json.dumps(qa, ensure_ascii=False),\n",
        "    })\n",
        "\n",
        "final_df = pd.DataFrame(cases)\n",
        "final_df[\"length\"] = df[\"length\"]\n",
        "final_df = pd.concat([final_df, bow_df], axis=1)\n",
        "\n",
        "output_csv = \"/content/drive/MyDrive/ProyekA/data/processed/cases.csv\"\n",
        "output_json = \"/content/drive/MyDrive/ProyekA/data/processed/cases.json\"\n",
        "os.makedirs(os.path.dirname(output_csv), exist_ok=True)\n",
        "final_df.to_csv(output_csv, index=False)\n",
        "final_df.to_json(output_json, orient=\"records\", indent=2)\n",
        "\n",
        "print(\"Berhasil disimpan ke:\")\n",
        "print(output_csv)\n",
        "print(output_json)"
      ]
    }
  ]
}